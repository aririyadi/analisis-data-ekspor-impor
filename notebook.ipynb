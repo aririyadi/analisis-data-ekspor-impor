{
 "cells": [
  {
   "cell_type": "markdown",
   "metadata": {},
   "source": [
    "## Data Wrangling"
   ]
  },
  {
   "cell_type": "code",
   "execution_count": 2,
   "metadata": {},
   "outputs": [
    {
     "data": {
      "text/html": [
       "<div>\n",
       "<style scoped>\n",
       "    .dataframe tbody tr th:only-of-type {\n",
       "        vertical-align: middle;\n",
       "    }\n",
       "\n",
       "    .dataframe tbody tr th {\n",
       "        vertical-align: top;\n",
       "    }\n",
       "\n",
       "    .dataframe thead th {\n",
       "        text-align: right;\n",
       "    }\n",
       "</style>\n",
       "<table border=\"1\" class=\"dataframe\">\n",
       "  <thead>\n",
       "    <tr style=\"text-align: right;\">\n",
       "      <th></th>\n",
       "      <th>Bulan</th>\n",
       "      <th>Nilai Ekspor (US $)</th>\n",
       "      <th>Berat Ekspor (KG)</th>\n",
       "      <th>Nilai Impor (US $)</th>\n",
       "      <th>Berat Impor (KG)</th>\n",
       "    </tr>\n",
       "  </thead>\n",
       "  <tbody>\n",
       "    <tr>\n",
       "      <th>0</th>\n",
       "      <td>2014-01-01</td>\n",
       "      <td>1.447229e+10</td>\n",
       "      <td>4.915438e+10</td>\n",
       "      <td>1.491623e+10</td>\n",
       "      <td>11590996964</td>\n",
       "    </tr>\n",
       "    <tr>\n",
       "      <th>1</th>\n",
       "      <td>2014-02-01</td>\n",
       "      <td>1.463409e+10</td>\n",
       "      <td>4.341624e+10</td>\n",
       "      <td>1.379066e+10</td>\n",
       "      <td>10640029636</td>\n",
       "    </tr>\n",
       "    <tr>\n",
       "      <th>2</th>\n",
       "      <td>2014-03-01</td>\n",
       "      <td>1.519263e+10</td>\n",
       "      <td>4.929496e+10</td>\n",
       "      <td>1.452372e+10</td>\n",
       "      <td>11439923450</td>\n",
       "    </tr>\n",
       "    <tr>\n",
       "      <th>3</th>\n",
       "      <td>2014-04-01</td>\n",
       "      <td>1.429247e+10</td>\n",
       "      <td>4.554173e+10</td>\n",
       "      <td>1.625498e+10</td>\n",
       "      <td>13005419405</td>\n",
       "    </tr>\n",
       "    <tr>\n",
       "      <th>4</th>\n",
       "      <td>2014-05-01</td>\n",
       "      <td>1.482360e+10</td>\n",
       "      <td>4.741763e+10</td>\n",
       "      <td>1.477034e+10</td>\n",
       "      <td>12197088101</td>\n",
       "    </tr>\n",
       "  </tbody>\n",
       "</table>\n",
       "</div>"
      ],
      "text/plain": [
       "       Bulan  Nilai Ekspor (US $)  Berat Ekspor (KG)  Nilai Impor (US $)  \\\n",
       "0 2014-01-01         1.447229e+10       4.915438e+10        1.491623e+10   \n",
       "1 2014-02-01         1.463409e+10       4.341624e+10        1.379066e+10   \n",
       "2 2014-03-01         1.519263e+10       4.929496e+10        1.452372e+10   \n",
       "3 2014-04-01         1.429247e+10       4.554173e+10        1.625498e+10   \n",
       "4 2014-05-01         1.482360e+10       4.741763e+10        1.477034e+10   \n",
       "\n",
       "   Berat Impor (KG)  \n",
       "0       11590996964  \n",
       "1       10640029636  \n",
       "2       11439923450  \n",
       "3       13005419405  \n",
       "4       12197088101  "
      ]
     },
     "execution_count": 2,
     "metadata": {},
     "output_type": "execute_result"
    }
   ],
   "source": [
    "import pandas as pd\n",
    "\n",
    "# Ganti nama file dan path sesuai dengan kebutuhan Anda\n",
    "data_df = pd.read_excel(\"Data_Ekspor_Impor_Indonesia_Bulanan_2014_2023.xlsx\")\n",
    "data_df.head()\n"
   ]
  },
  {
   "cell_type": "markdown",
   "metadata": {},
   "source": [
    "## Assessing Data"
   ]
  },
  {
   "cell_type": "code",
   "execution_count": 3,
   "metadata": {},
   "outputs": [
    {
     "name": "stdout",
     "output_type": "stream",
     "text": [
      "<class 'pandas.core.frame.DataFrame'>\n",
      "RangeIndex: 117 entries, 0 to 116\n",
      "Data columns (total 5 columns):\n",
      " #   Column               Non-Null Count  Dtype         \n",
      "---  ------               --------------  -----         \n",
      " 0   Bulan                117 non-null    datetime64[ns]\n",
      " 1   Nilai Ekspor (US $)  117 non-null    float64       \n",
      " 2   Berat Ekspor (KG)    117 non-null    float64       \n",
      " 3   Nilai Impor (US $)   117 non-null    float64       \n",
      " 4   Berat Impor (KG)     117 non-null    int64         \n",
      "dtypes: datetime64[ns](1), float64(3), int64(1)\n",
      "memory usage: 4.7 KB\n"
     ]
    }
   ],
   "source": [
    "# Info Jumlah kolom dan baris, Nama kolom beserta tipe datanya, Jumlah nilai non-null dan penggunaan memori\n",
    "data_df.info()"
   ]
  },
  {
   "cell_type": "code",
   "execution_count": 4,
   "metadata": {},
   "outputs": [
    {
     "name": "stdout",
     "output_type": "stream",
     "text": [
      "Bulan                  117\n",
      "Nilai Ekspor (US $)    117\n",
      "Berat Ekspor (KG)      117\n",
      "Nilai Impor (US $)     117\n",
      "Berat Impor (KG)       117\n",
      "dtype: int64\n"
     ]
    }
   ],
   "source": [
    "# menghitung jumlah nilai unik (distinct) untuk setiap kolom dalam DataFrame\n",
    "unique_counts = data_df.nunique()\n",
    "print(unique_counts)\n"
   ]
  },
  {
   "cell_type": "code",
   "execution_count": 5,
   "metadata": {},
   "outputs": [
    {
     "name": "stdout",
     "output_type": "stream",
     "text": [
      "Jumlah duplikasi:  0\n"
     ]
    },
    {
     "data": {
      "text/html": [
       "<div>\n",
       "<style scoped>\n",
       "    .dataframe tbody tr th:only-of-type {\n",
       "        vertical-align: middle;\n",
       "    }\n",
       "\n",
       "    .dataframe tbody tr th {\n",
       "        vertical-align: top;\n",
       "    }\n",
       "\n",
       "    .dataframe thead th {\n",
       "        text-align: right;\n",
       "    }\n",
       "</style>\n",
       "<table border=\"1\" class=\"dataframe\">\n",
       "  <thead>\n",
       "    <tr style=\"text-align: right;\">\n",
       "      <th></th>\n",
       "      <th>Bulan</th>\n",
       "      <th>Nilai Ekspor (US $)</th>\n",
       "      <th>Berat Ekspor (KG)</th>\n",
       "      <th>Nilai Impor (US $)</th>\n",
       "      <th>Berat Impor (KG)</th>\n",
       "    </tr>\n",
       "  </thead>\n",
       "  <tbody>\n",
       "    <tr>\n",
       "      <th>count</th>\n",
       "      <td>117</td>\n",
       "      <td>1.170000e+02</td>\n",
       "      <td>1.170000e+02</td>\n",
       "      <td>1.170000e+02</td>\n",
       "      <td>1.170000e+02</td>\n",
       "    </tr>\n",
       "    <tr>\n",
       "      <th>mean</th>\n",
       "      <td>2018-10-31 12:18:27.692307712</td>\n",
       "      <td>1.595745e+10</td>\n",
       "      <td>4.905517e+10</td>\n",
       "      <td>1.451617e+10</td>\n",
       "      <td>1.359644e+10</td>\n",
       "    </tr>\n",
       "    <tr>\n",
       "      <th>min</th>\n",
       "      <td>2014-01-01 00:00:00</td>\n",
       "      <td>9.649504e+09</td>\n",
       "      <td>2.711630e+10</td>\n",
       "      <td>8.438627e+09</td>\n",
       "      <td>9.777959e+09</td>\n",
       "    </tr>\n",
       "    <tr>\n",
       "      <th>25%</th>\n",
       "      <td>2016-06-01 00:00:00</td>\n",
       "      <td>1.324488e+10</td>\n",
       "      <td>4.414627e+10</td>\n",
       "      <td>1.238515e+10</td>\n",
       "      <td>1.239700e+10</td>\n",
       "    </tr>\n",
       "    <tr>\n",
       "      <th>50%</th>\n",
       "      <td>2018-11-01 00:00:00</td>\n",
       "      <td>1.449624e+10</td>\n",
       "      <td>4.861941e+10</td>\n",
       "      <td>1.443465e+10</td>\n",
       "      <td>1.347401e+10</td>\n",
       "    </tr>\n",
       "    <tr>\n",
       "      <th>75%</th>\n",
       "      <td>2021-04-01 00:00:00</td>\n",
       "      <td>1.839841e+10</td>\n",
       "      <td>5.415204e+10</td>\n",
       "      <td>1.629362e+10</td>\n",
       "      <td>1.461803e+10</td>\n",
       "    </tr>\n",
       "    <tr>\n",
       "      <th>max</th>\n",
       "      <td>2023-09-01 00:00:00</td>\n",
       "      <td>2.792870e+10</td>\n",
       "      <td>6.390286e+10</td>\n",
       "      <td>2.196242e+10</td>\n",
       "      <td>1.876940e+10</td>\n",
       "    </tr>\n",
       "    <tr>\n",
       "      <th>std</th>\n",
       "      <td>NaN</td>\n",
       "      <td>4.157289e+09</td>\n",
       "      <td>6.332245e+09</td>\n",
       "      <td>2.883556e+09</td>\n",
       "      <td>1.767308e+09</td>\n",
       "    </tr>\n",
       "  </tbody>\n",
       "</table>\n",
       "</div>"
      ],
      "text/plain": [
       "                               Bulan  Nilai Ekspor (US $)  Berat Ekspor (KG)  \\\n",
       "count                            117         1.170000e+02       1.170000e+02   \n",
       "mean   2018-10-31 12:18:27.692307712         1.595745e+10       4.905517e+10   \n",
       "min              2014-01-01 00:00:00         9.649504e+09       2.711630e+10   \n",
       "25%              2016-06-01 00:00:00         1.324488e+10       4.414627e+10   \n",
       "50%              2018-11-01 00:00:00         1.449624e+10       4.861941e+10   \n",
       "75%              2021-04-01 00:00:00         1.839841e+10       5.415204e+10   \n",
       "max              2023-09-01 00:00:00         2.792870e+10       6.390286e+10   \n",
       "std                              NaN         4.157289e+09       6.332245e+09   \n",
       "\n",
       "       Nilai Impor (US $)  Berat Impor (KG)  \n",
       "count        1.170000e+02      1.170000e+02  \n",
       "mean         1.451617e+10      1.359644e+10  \n",
       "min          8.438627e+09      9.777959e+09  \n",
       "25%          1.238515e+10      1.239700e+10  \n",
       "50%          1.443465e+10      1.347401e+10  \n",
       "75%          1.629362e+10      1.461803e+10  \n",
       "max          2.196242e+10      1.876940e+10  \n",
       "std          2.883556e+09      1.767308e+09  "
      ]
     },
     "execution_count": 5,
     "metadata": {},
     "output_type": "execute_result"
    }
   ],
   "source": [
    "# jumlah duplikasi dalam DataFrame\n",
    "print(\"Jumlah duplikasi: \", data_df.duplicated().sum())\n",
    "data_df.describe()"
   ]
  },
  {
   "cell_type": "code",
   "execution_count": 6,
   "metadata": {},
   "outputs": [
    {
     "name": "stdout",
     "output_type": "stream",
     "text": [
      "Bulan                  0\n",
      "Nilai Ekspor (US $)    0\n",
      "Berat Ekspor (KG)      0\n",
      "Nilai Impor (US $)     0\n",
      "Berat Impor (KG)       0\n",
      "dtype: int64\n"
     ]
    }
   ],
   "source": [
    "# menghitung jumlah nilai yang hilang (NaN atau null)\n",
    "missing_values = data_df.isna().sum()\n",
    "print(missing_values)"
   ]
  },
  {
   "cell_type": "markdown",
   "metadata": {},
   "source": [
    "## Cleaning Data"
   ]
  },
  {
   "cell_type": "markdown",
   "metadata": {},
   "source": [
    "### Memperbaiki Tipe Data"
   ]
  },
  {
   "cell_type": "code",
   "execution_count": 7,
   "metadata": {},
   "outputs": [
    {
     "name": "stdout",
     "output_type": "stream",
     "text": [
      "Bulan                  datetime64[ns]\n",
      "Nilai Ekspor (US $)           float64\n",
      "Berat Ekspor (KG)             float64\n",
      "Nilai Impor (US $)            float64\n",
      "Berat Impor (KG)              float64\n",
      "dtype: object\n"
     ]
    }
   ],
   "source": [
    "# mengganti tipe Data \"Berat Impor (KG)\"\n",
    "data_df[\"Berat Impor (KG)\"] = data_df[\"Berat Impor (KG)\"].astype(float)\n",
    "\n",
    "# Cek tipe data setelah perubahan\n",
    "print(data_df.dtypes)\n"
   ]
  },
  {
   "cell_type": "markdown",
   "metadata": {},
   "source": [
    "## Exploratory Data Analysis (EDA)"
   ]
  },
  {
   "cell_type": "markdown",
   "metadata": {},
   "source": [
    "### Explore `data_df`"
   ]
  },
  {
   "cell_type": "code",
   "execution_count": 8,
   "metadata": {},
   "outputs": [
    {
     "data": {
      "text/html": [
       "<div>\n",
       "<style scoped>\n",
       "    .dataframe tbody tr th:only-of-type {\n",
       "        vertical-align: middle;\n",
       "    }\n",
       "\n",
       "    .dataframe tbody tr th {\n",
       "        vertical-align: top;\n",
       "    }\n",
       "\n",
       "    .dataframe thead th {\n",
       "        text-align: right;\n",
       "    }\n",
       "</style>\n",
       "<table border=\"1\" class=\"dataframe\">\n",
       "  <thead>\n",
       "    <tr style=\"text-align: right;\">\n",
       "      <th></th>\n",
       "      <th>Bulan</th>\n",
       "      <th>Nilai Ekspor (US $)</th>\n",
       "      <th>Berat Ekspor (KG)</th>\n",
       "      <th>Nilai Impor (US $)</th>\n",
       "      <th>Berat Impor (KG)</th>\n",
       "    </tr>\n",
       "  </thead>\n",
       "  <tbody>\n",
       "    <tr>\n",
       "      <th>83</th>\n",
       "      <td>2020-12-01</td>\n",
       "      <td>1.653956e+10</td>\n",
       "      <td>5.727274e+10</td>\n",
       "      <td>1.443838e+10</td>\n",
       "      <td>1.533067e+10</td>\n",
       "    </tr>\n",
       "    <tr>\n",
       "      <th>93</th>\n",
       "      <td>2021-10-01</td>\n",
       "      <td>2.209098e+10</td>\n",
       "      <td>5.652578e+10</td>\n",
       "      <td>1.629362e+10</td>\n",
       "      <td>1.435373e+10</td>\n",
       "    </tr>\n",
       "    <tr>\n",
       "      <th>69</th>\n",
       "      <td>2019-10-01</td>\n",
       "      <td>1.488146e+10</td>\n",
       "      <td>6.141298e+10</td>\n",
       "      <td>1.475908e+10</td>\n",
       "      <td>1.360530e+10</td>\n",
       "    </tr>\n",
       "    <tr>\n",
       "      <th>48</th>\n",
       "      <td>2018-01-01</td>\n",
       "      <td>1.457628e+10</td>\n",
       "      <td>4.820719e+10</td>\n",
       "      <td>1.530943e+10</td>\n",
       "      <td>1.322709e+10</td>\n",
       "    </tr>\n",
       "    <tr>\n",
       "      <th>94</th>\n",
       "      <td>2021-11-01</td>\n",
       "      <td>2.284536e+10</td>\n",
       "      <td>5.028002e+10</td>\n",
       "      <td>1.932819e+10</td>\n",
       "      <td>1.520891e+10</td>\n",
       "    </tr>\n",
       "  </tbody>\n",
       "</table>\n",
       "</div>"
      ],
      "text/plain": [
       "        Bulan  Nilai Ekspor (US $)  Berat Ekspor (KG)  Nilai Impor (US $)  \\\n",
       "83 2020-12-01         1.653956e+10       5.727274e+10        1.443838e+10   \n",
       "93 2021-10-01         2.209098e+10       5.652578e+10        1.629362e+10   \n",
       "69 2019-10-01         1.488146e+10       6.141298e+10        1.475908e+10   \n",
       "48 2018-01-01         1.457628e+10       4.820719e+10        1.530943e+10   \n",
       "94 2021-11-01         2.284536e+10       5.028002e+10        1.932819e+10   \n",
       "\n",
       "    Berat Impor (KG)  \n",
       "83      1.533067e+10  \n",
       "93      1.435373e+10  \n",
       "69      1.360530e+10  \n",
       "48      1.322709e+10  \n",
       "94      1.520891e+10  "
      ]
     },
     "execution_count": 8,
     "metadata": {},
     "output_type": "execute_result"
    }
   ],
   "source": [
    "# Menyimpan DataFrame ke dalam file CSV baru\n",
    "data_df.to_csv(\"Data_Ekspor_Impor_Indonesia_BPS.csv\", index=False)\n",
    "data_df.sample(5)"
   ]
  },
  {
   "cell_type": "markdown",
   "metadata": {},
   "source": [
    "## Visualisasi Data & Explanatory Analysis"
   ]
  },
  {
   "cell_type": "markdown",
   "metadata": {},
   "source": [
    "### 1. Bagaimana Perkembangan Nilai Ekspor & Impor Indonesia dalam Beberapa Tahun Terakhir?"
   ]
  },
  {
   "cell_type": "code",
   "execution_count": 9,
   "metadata": {},
   "outputs": [
    {
     "data": {
      "image/png": "[encoded data removed]",
      "text/plain": [
       "<Figure size 1000x600 with 1 Axes>"
      ]
     },
     "metadata": {},
     "output_type": "display_data"
    }
   ],
   "source": [
    "import pandas as pd\n",
    "import matplotlib.pyplot as plt\n",
    "import locale\n",
    "from matplotlib.ticker import FuncFormatter\n",
    "\n",
    "# Set locale untuk format mata uang\n",
    "locale.setlocale(locale.LC_ALL, 'en_US.UTF-8')\n",
    "\n",
    "# Membaca file CSV\n",
    "all_df = pd.read_csv(\"Data_Ekspor_Impor_Indonesia_BPS.csv\")\n",
    "\n",
    "# Mengubah tipe data kolom \"Bulan\" menjadi datetime\n",
    "all_df['Bulan'] = pd.to_datetime(all_df['Bulan'], format='%Y-%m-%d')\n",
    "\n",
    "# Inisialisasi list untuk menyimpan total nilai ekspor dan impor, serta tahun\n",
    "tahun_list = []\n",
    "total_nilai_ekspor_list = []\n",
    "total_nilai_impor_list = []\n",
    "\n",
    "# Iterasi melalui setiap tahun\n",
    "for tahun in range(2014, 2024):\n",
    "    # Filter data untuk tahun tertentu\n",
    "    data_ekspor_impor_tahun = all_df[all_df['Bulan'].dt.year == tahun]\n",
    "\n",
    "    # Menghitung total nilai ekspor & impor untuk tahun tertentu\n",
    "    total_nilai_ekspor_tahun = data_ekspor_impor_tahun['Nilai Ekspor (US $)'].sum()\n",
    "    total_nilai_impor_tahun = data_ekspor_impor_tahun['Nilai Impor (US $)'].sum()\n",
    "    # Menampilkan hasil dengan format mata uang USD\n",
    "    # print(f\"Total Nilai Ekspor (USD) Tahun ({tahun}): {locale.currency(total_nilai_ekspor_tahun, grouping=True)}\")\n",
    "    # print(f\"Total Nilai Impor (USD) Tahun ({tahun}): {locale.currency(total_nilai_impor_tahun, grouping=True)}\")\n",
    "    \n",
    "    # Menghitung total nilai ekspor untuk tahun tertentu\n",
    "    total_nilai_ekspor_tahun = data_ekspor_impor_tahun['Nilai Ekspor (US $)'].sum()\n",
    "    \n",
    "    # Menghitung total nilai impor untuk tahun tertentu\n",
    "    total_nilai_impor_tahun = data_ekspor_impor_tahun['Nilai Impor (US $)'].sum()\n",
    "    \n",
    "    # Menyimpan hasil ke dalam list\n",
    "    tahun_list.append(tahun)\n",
    "    total_nilai_ekspor_list.append(total_nilai_ekspor_tahun)\n",
    "    total_nilai_impor_list.append(total_nilai_impor_tahun)\n",
    "\n",
    "# Membuat grafik line chart\n",
    "plt.figure(figsize=(10, 6))\n",
    "plt.plot(tahun_list, total_nilai_ekspor_list, marker='o', linestyle='-', color='b', label='Ekspor')\n",
    "plt.plot(tahun_list, total_nilai_impor_list, marker='o', linestyle='-', color='r', label='Impor')\n",
    "plt.title('Perkembangan Nilai Ekspor & Impor Indonesia (2014-2023)')\n",
    "plt.ylabel('(USD Milyar)', labelpad=5)\n",
    "\n",
    "# Mengonfigurasi formatter untuk mengubah angka menjadi format miliar\n",
    "def format_miliar(value, _):\n",
    "    return f\"{value/1e9:.0f}\"\n",
    "\n",
    "plt.gca().yaxis.set_major_formatter(FuncFormatter(format_miliar))\n",
    "\n",
    "# Menetapkan label sumbu x untuk menampilkan semua tahun\n",
    "plt.xticks(tahun_list)\n",
    "\n",
    "plt.legend()\n",
    "plt.grid(True)\n",
    "plt.show()"
   ]
  },
  {
   "cell_type": "markdown",
   "metadata": {},
   "source": [
    "### 2. Bagaimana Perkembangan Berat Ekspor & Impor Indonesia dalam Beberapa Tahun Terakhir?"
   ]
  },
  {
   "cell_type": "code",
   "execution_count": 10,
   "metadata": {},
   "outputs": [
    {
     "data": {
      "image/png": "[encoded data removed]",
      "text/plain": [
       "<Figure size 1000x600 with 1 Axes>"
      ]
     },
     "metadata": {},
     "output_type": "display_data"
    }
   ],
   "source": [
    "import pandas as pd\n",
    "import matplotlib.pyplot as plt\n",
    "from matplotlib.ticker import FuncFormatter\n",
    "\n",
    "# Membaca file CSV\n",
    "all_df = pd.read_csv(\"Data_Ekspor_Impor_Indonesia_BPS.csv\")\n",
    "\n",
    "# Mengubah tipe data kolom \"Bulan\" menjadi datetime\n",
    "all_df['Bulan'] = pd.to_datetime(all_df['Bulan'], format='%Y-%m-%d')\n",
    "\n",
    "# Inisialisasi list untuk menyimpan total berat ekspor dan impor, serta tahun\n",
    "tahun_list = []\n",
    "total_berat_ekspor_list = []\n",
    "total_berat_impor_list = []\n",
    "\n",
    "# Iterasi melalui setiap tahun\n",
    "for tahun in range(2014, 2024):\n",
    "    # Filter data untuk tahun tertentu\n",
    "    data_ekspor_impor_tahun = all_df[all_df['Bulan'].dt.year == tahun]\n",
    "\n",
    "    # Menghitung total berat ekspor & impor untuk tahun tertentu\n",
    "    total_berat_ekspor_tahun = data_ekspor_impor_tahun['Berat Ekspor (KG)'].sum()\n",
    "    total_berat_impor_tahun = data_ekspor_impor_tahun['Berat Impor (KG)'].sum()\n",
    "\n",
    "    # Menampilkan hasil\n",
    "    # print(f\"Total Berat Ekspor (KG) Tahun ({tahun}): {total_berat_ekspor_tahun:,.2f} Kg\")\n",
    "    # print(f\"Total Berat Impor (KG) Tahun ({tahun}): {total_berat_impor_tahun:,.2f} Kg\")\n",
    "\n",
    "    # Menyimpan hasil ke dalam list\n",
    "    tahun_list.append(tahun)\n",
    "    total_berat_ekspor_list.append(total_berat_ekspor_tahun)\n",
    "    total_berat_impor_list.append(total_berat_impor_tahun)\n",
    "\n",
    "# Membuat dua grafik bar chart yang terpisah\n",
    "plt.figure(figsize=(10, 6))\n",
    "\n",
    "# Mengonfigurasi formatter untuk mengubah angka menjadi format miliar\n",
    "def format_miliar(value, _):\n",
    "    return f\"{value/1e9:.0f}\"\n",
    "\n",
    "# Bar chart untuk berat ekspor\n",
    "plt.bar([tahun - 0.2 for tahun in tahun_list], total_berat_ekspor_list, width=0.4, color='g', label='Ekspor')\n",
    "\n",
    "# Bar chart untuk berat impor\n",
    "plt.bar([tahun + 0.2 for tahun in tahun_list], total_berat_impor_list, width=0.4, color='y', label='Impor', alpha=0.7)\n",
    "\n",
    "plt.title('Data Jumlah Berat Ekspor & Impor Indonesia (2014-2023)')\n",
    "plt.ylabel('Milyar (Kg)')\n",
    "\n",
    "plt.gca().yaxis.set_major_formatter(FuncFormatter(format_miliar))\n",
    "\n",
    "# Menetapkan label sumbu x untuk menampilkan semua tahun\n",
    "plt.xticks(tahun_list)\n",
    "\n",
    "plt.legend()\n",
    "plt.grid(True)\n",
    "plt.show()"
   ]
  },
  {
   "cell_type": "markdown",
   "metadata": {},
   "source": [
    "### 3. Bagaimana Neraca Perdagangan Indonesia dalam Beberapa Tahun Terakhir?"
   ]
  },
  {
   "cell_type": "code",
   "execution_count": 11,
   "metadata": {},
   "outputs": [
    {
     "name": "stdout",
     "output_type": "stream",
     "text": [
      "Neraca Perdagangan Tahun (2014): -$2,198,976.10\n",
      "Neraca Perdagangan Tahun (2015): $7,671,487.28\n",
      "Neraca Perdagangan Tahun (2016): $9,533,394.75\n",
      "Neraca Perdagangan Tahun (2017): $11,842,612.21\n",
      "Neraca Perdagangan Tahun (2018): -$8,698,676.19\n",
      "Neraca Perdagangan Tahun (2019): -$3,592,740.86\n",
      "Neraca Perdagangan Tahun (2020): $21,623,043.53\n",
      "Neraca Perdagangan Tahun (2021): $35,419,500.50\n",
      "Neraca Perdagangan Tahun (2022): $69,289,519.08\n",
      "Neraca Perdagangan Tahun (2023): $27,740,461.29\n"
     ]
    },
    {
     "data": {
      "image/png": "[encoded data removed]",
      "text/plain": [
       "<Figure size 1000x600 with 1 Axes>"
      ]
     },
     "metadata": {},
     "output_type": "display_data"
    }
   ],
   "source": [
    "import pandas as pd\n",
    "import matplotlib.pyplot as plt\n",
    "import locale\n",
    "\n",
    "# Membaca file CSV\n",
    "all_df = pd.read_csv(\"Data_Ekspor_Impor_Indonesia_BPS.csv\")\n",
    "\n",
    "# Mengubah tipe data kolom \"Bulan\" menjadi datetime\n",
    "all_df['Bulan'] = pd.to_datetime(all_df['Bulan'], format='%Y-%m-%d')\n",
    "\n",
    "# Inisialisasi list untuk menyimpan total nilai ekspor dan impor, serta tahun\n",
    "tahun_list = []\n",
    "nilai_ekspor_list = []\n",
    "nilai_impor_list = []\n",
    "\n",
    "# Iterasi melalui setiap tahun\n",
    "for tahun in range(2014, 2024):\n",
    "    # Filter data untuk tahun tertentu\n",
    "    data_ekspor_impor_tahun = all_df[all_df['Bulan'].dt.year == tahun]\n",
    "\n",
    "    # Menghitung total nilai ekspor untuk tahun tertentu\n",
    "    total_nilai_ekspor_tahun = data_ekspor_impor_tahun['Nilai Ekspor (US $)'].sum()\n",
    "\n",
    "    # Menghitung total nilai impor untuk tahun tertentu\n",
    "    total_nilai_impor_tahun = data_ekspor_impor_tahun['Nilai Impor (US $)'].sum()\n",
    "\n",
    "    # Menyimpan hasil ke dalam list\n",
    "    tahun_list.append(tahun)\n",
    "    nilai_ekspor_list.append(total_nilai_ekspor_tahun)\n",
    "    nilai_impor_list.append(total_nilai_impor_tahun)\n",
    "\n",
    "# Menghitung neraca perdagangan\n",
    "neraca_perdagangan_list = [ekspor - impor for ekspor, impor in zip(nilai_ekspor_list, nilai_impor_list)]\n",
    "\n",
    "# Membuat DataFrame untuk neraca perdagangan\n",
    "neraca_perdagangan_df = pd.DataFrame({\n",
    "    'Tahun': tahun_list,\n",
    "    'Neraca Perdagangan (US $)': neraca_perdagangan_list\n",
    "})\n",
    "\n",
    "# Set locale untuk format mata uang\n",
    "locale.setlocale(locale.LC_ALL, 'en_US.UTF-8')\n",
    "\n",
    "# Menampilkan hasil dengan format mata uang USD\n",
    "for tahun, nilai in zip(tahun_list, neraca_perdagangan_list):\n",
    "    formatted_nilai = locale.currency(abs(nilai) / 1e3, grouping=True)\n",
    "    sign = \"\" if nilai >= 0 else \"-\"\n",
    "    print(f\"Neraca Perdagangan Tahun ({tahun}): {sign}{formatted_nilai}\")\n",
    "\n",
    "# Membuat grafik line dan bar chart dengan warna berbeda\n",
    "plt.figure(figsize=(10, 6))\n",
    "bar_colors = ['navy' if nilai >= 0 else 'maroon' for nilai in neraca_perdagangan_list]\n",
    "plt.bar(neraca_perdagangan_df['Tahun'], neraca_perdagangan_df['Neraca Perdagangan (US $)'] / 1e9, color=bar_colors, alpha=1.0)\n",
    "plt.plot(neraca_perdagangan_df['Tahun'], neraca_perdagangan_df['Neraca Perdagangan (US $)'] / 1e9, marker='o', linestyle='-', color='gold', label='Neraca Perdagangan', linewidth=2.0)\n",
    "plt.fill_between([], [], color='navy', alpha=1.0, label='Surplus')\n",
    "plt.fill_between([], [], color='maroon', alpha=1.0, label='Defisit')\n",
    "\n",
    "plt.title('Neraca Perdagangan Indonesia (2014-2023)')\n",
    "plt.ylabel('(Juta USD)')\n",
    "plt.xticks(tahun_list)\n",
    "plt.legend()\n",
    "plt.grid(True)\n",
    "plt.show()\n"
   ]
  },
  {
   "cell_type": "markdown",
   "metadata": {},
   "source": [
    "### 4. Bagaimana Pertumbuhan (%) Nilai Ekspor & Impor Indonesia dalam Beberapa Tahun Terakhir?"
   ]
  },
  {
   "cell_type": "code",
   "execution_count": 12,
   "metadata": {},
   "outputs": [
    {
     "name": "stdout",
     "output_type": "stream",
     "text": [
      "Tahun 2014: Waktu Mulai\n",
      "Tahun 2015: Pertumbuhan Ekspor: -14.55%, Pertumbuhan Impor: -19.91%\n",
      "Tahun 2016: Pertumbuhan Ekspor: -3.44%, Pertumbuhan Impor: -4.93%\n",
      "Tahun 2017: Pertumbuhan Ekspor: 16.28%, Pertumbuhan Impor: 15.73%\n",
      "Tahun 2018: Pertumbuhan Ekspor: 6.62%, Pertumbuhan Impor: 20.21%\n",
      "Tahun 2019: Pertumbuhan Ekspor: -6.85%, Pertumbuhan Impor: -9.24%\n",
      "Tahun 2020: Pertumbuhan Ekspor: -2.68%, Pertumbuhan Impor: -17.34%\n",
      "Tahun 2021: Pertumbuhan Ekspor: 41.92%, Pertumbuhan Impor: 38.58%\n",
      "Tahun 2022: Pertumbuhan Ekspor: 26.03%, Pertumbuhan Impor: 13.47%\n",
      "Tahun 2023: Pertumbuhan Ekspor: -34.14%, Pertumbuhan Impor: -26.10%\n"
     ]
    },
    {
     "data": {
      "image/png": "[encoded data removed]",
      "text/plain": [
       "<Figure size 1000x600 with 1 Axes>"
      ]
     },
     "metadata": {},
     "output_type": "display_data"
    }
   ],
   "source": [
    "import pandas as pd\n",
    "import matplotlib.pyplot as plt\n",
    "import locale\n",
    "\n",
    "# Set locale untuk format mata uang\n",
    "locale.setlocale(locale.LC_ALL, 'en_US.UTF-8')\n",
    "\n",
    "# Membaca file CSV\n",
    "all_df = pd.read_csv(\"Data_Ekspor_Impor_Indonesia_BPS.csv\")\n",
    "\n",
    "# Mengubah tipe data kolom \"Bulan\" menjadi datetime\n",
    "all_df['Bulan'] = pd.to_datetime(all_df['Bulan'], format='%Y-%m-%d')\n",
    "\n",
    "# Inisialisasi list untuk menyimpan total nilai ekspor dan impor, serta tahun\n",
    "tahun_list = []\n",
    "total_nilai_ekspor_list = []\n",
    "total_nilai_impor_list = []\n",
    "\n",
    "# Iterasi melalui setiap tahun\n",
    "for tahun in range(2014, 2024):\n",
    "    # Filter data untuk tahun tertentu\n",
    "    data_ekspor_impor_tahun = all_df[all_df['Bulan'].dt.year == tahun]\n",
    "\n",
    "    # Menghitung total nilai ekspor & impor untuk tahun tertentu\n",
    "    total_nilai_ekspor_tahun = data_ekspor_impor_tahun['Nilai Ekspor (US $)'].sum()\n",
    "    total_nilai_impor_tahun = data_ekspor_impor_tahun['Nilai Impor (US $)'].sum()\n",
    "\n",
    "    # Menyimpan hasil ke dalam list\n",
    "    tahun_list.append(tahun)\n",
    "    total_nilai_ekspor_list.append(total_nilai_ekspor_tahun)\n",
    "    total_nilai_impor_list.append(total_nilai_impor_tahun)\n",
    "\n",
    "# Membuat DataFrame untuk total nilai ekspor dan impor\n",
    "total_nilai_df = pd.DataFrame({\n",
    "    'Tahun': tahun_list,\n",
    "    'Total Nilai Ekspor (US $)': total_nilai_ekspor_list,\n",
    "    'Total Nilai Impor (US $)': total_nilai_impor_list\n",
    "})\n",
    "\n",
    "# Menambahkan kolom persentase pertumbuhan ekspor dan impor\n",
    "total_nilai_df['Pertumbuhan Ekspor (%)'] = total_nilai_df['Total Nilai Ekspor (US $)'].pct_change() * 100\n",
    "total_nilai_df['Pertumbuhan Impor (%)'] = total_nilai_df['Total Nilai Impor (US $)'].pct_change() * 100\n",
    "\n",
    "# Menampilkan DataFrame hasil\n",
    "for i in range(len(tahun_list)):\n",
    "    if i == 0:\n",
    "        print(f\"Tahun {tahun_list[i]}: Waktu Mulai\")\n",
    "    else:\n",
    "        pertumbuhan_ekspor = total_nilai_df.at[i, 'Pertumbuhan Ekspor (%)']\n",
    "        pertumbuhan_impor = total_nilai_df.at[i, 'Pertumbuhan Impor (%)']\n",
    "        print(f\"Tahun {tahun_list[i]}: Pertumbuhan Ekspor: {pertumbuhan_ekspor:.2f}%, Pertumbuhan Impor: {pertumbuhan_impor:.2f}%\")\n",
    "\n",
    "# Plotting grafik batang\n",
    "plt.figure(figsize=(10, 6))\n",
    "bar_width = 0.50\n",
    "plt.bar(total_nilai_df['Tahun'] - bar_width/2, total_nilai_df['Pertumbuhan Ekspor (%)'], bar_width, label='Pertumbuhan Ekspor (%)')\n",
    "plt.bar(total_nilai_df['Tahun'] + bar_width/2, total_nilai_df['Pertumbuhan Impor (%)'], bar_width, label='Pertumbuhan Impor (%)')\n",
    "\n",
    "# Menambahkan keterangan dalam grafik\n",
    "for i in range(len(tahun_list)):\n",
    "    pertumbuhan_ekspor = total_nilai_df.at[i, 'Pertumbuhan Ekspor (%)']\n",
    "    pertumbuhan_impor = total_nilai_df.at[i, 'Pertumbuhan Impor (%)']\n",
    "    \n",
    "    # Memeriksa apakah nilai pertumbuhan valid sebelum menggunakan plt.text\n",
    "    if pd.notna(pertumbuhan_ekspor):\n",
    "        plt.text(total_nilai_df['Tahun'][i] - bar_width/2, pertumbuhan_ekspor, f'{pertumbuhan_ekspor:.2f}%', ha='center', va='bottom', fontweight='bold', color='green')\n",
    "\n",
    "    if pd.notna(pertumbuhan_impor):\n",
    "        plt.text(total_nilai_df['Tahun'][i] + bar_width/2, pertumbuhan_impor, f'{pertumbuhan_impor:.2f}%', ha='center', va='top', fontweight='bold', color='red')\n",
    "\n",
    "plt.title('Pertumbuhan Nilai Ekspor dan Impor Indonesia (2014-2023)')\n",
    "plt.ylabel('Persentase Pertumbuhan (%)')\n",
    "plt.xticks(tahun_list)\n",
    "plt.legend()\n",
    "plt.grid(True)\n",
    "plt.show()\n"
   ]
  },
  {
   "cell_type": "code",
   "execution_count": 13,
   "metadata": {},
   "outputs": [
    {
     "data": {
      "application/vnd.plotly.v1+json": {
       "config": {
        "plotlyServerURL": "https://plot.ly"
       },
       "data": [
        {
         "marker": {
          "color": "blue"
         },
         "name": "Pertumbuhan Ekspor (%)",
         "type": "bar",
         "x": [
          2014,
          2015,
          2016,
          2017,
          2018,
          2019,
          2020,
          2021,
          2022,
          2023
         ],
         "y": [
          null,
          -14.554891112201629,
          -3.4449744051241793,
          16.283891208829495,
          6.624781677549207,
          -6.849338768010915,
          -2.678362192326933,
          41.92467110235418,
          26.032967444331078,
          -34.135917703158
         ]
        },
        {
         "marker": {
          "color": "orange"
         },
         "name": "Pertumbuhan Impor (%)",
         "type": "bar",
         "x": [
          2014,
          2015,
          2016,
          2017,
          2018,
          2019,
          2020,
          2021,
          2022,
          2023
         ],
         "y": [
          null,
          -19.91489806093152,
          -4.934999392826489,
          15.725989162077392,
          20.20936557297206,
          -9.239302870065181,
          -17.344512940277312,
          38.58278555507682,
          13.46898652346471,
          -26.09671899893309
         ]
        }
       ],
       "layout": {
        "annotations": [
         {
          "arrowhead": 5,
          "ax": 0,
          "ay": -40,
          "showarrow": true,
          "text": "-14.55%",
          "x": 2015,
          "y": -14.554891112201629
         },
         {
          "arrowhead": 5,
          "ax": 0,
          "ay": 40,
          "showarrow": true,
          "text": "-19.91%",
          "x": 2015,
          "y": -19.91489806093152
         },
         {
          "arrowhead": 5,
          "ax": 0,
          "ay": -40,
          "showarrow": true,
          "text": "-3.44%",
          "x": 2016,
          "y": -3.4449744051241793
         },
         {
          "arrowhead": 5,
          "ax": 0,
          "ay": 40,
          "showarrow": true,
          "text": "-4.93%",
          "x": 2016,
          "y": -4.934999392826489
         },
         {
          "arrowhead": 5,
          "ax": 0,
          "ay": -40,
          "showarrow": true,
          "text": "16.28%",
          "x": 2017,
          "y": 16.283891208829495
         },
         {
          "arrowhead": 5,
          "ax": 0,
          "ay": 40,
          "showarrow": true,
          "text": "15.73%",
          "x": 2017,
          "y": 15.725989162077392
         },
         {
          "arrowhead": 5,
          "ax": 0,
          "ay": -40,
          "showarrow": true,
          "text": "6.62%",
          "x": 2018,
          "y": 6.624781677549207
         },
         {
          "arrowhead": 5,
          "ax": 0,
          "ay": 40,
          "showarrow": true,
          "text": "20.21%",
          "x": 2018,
          "y": 20.20936557297206
         },
         {
          "arrowhead": 5,
          "ax": 0,
          "ay": -40,
          "showarrow": true,
          "text": "-6.85%",
          "x": 2019,
          "y": -6.849338768010915
         },
         {
          "arrowhead": 5,
          "ax": 0,
          "ay": 40,
          "showarrow": true,
          "text": "-9.24%",
          "x": 2019,
          "y": -9.239302870065181
         },
         {
          "arrowhead": 5,
          "ax": 0,
          "ay": -40,
          "showarrow": true,
          "text": "-2.68%",
          "x": 2020,
          "y": -2.678362192326933
         },
         {
          "arrowhead": 5,
          "ax": 0,
          "ay": 40,
          "showarrow": true,
          "text": "-17.34%",
          "x": 2020,
          "y": -17.344512940277312
         },
         {
          "arrowhead": 5,
          "ax": 0,
          "ay": -40,
          "showarrow": true,
          "text": "41.92%",
          "x": 2021,
          "y": 41.92467110235418
         },
         {
          "arrowhead": 5,
          "ax": 0,
          "ay": 40,
          "showarrow": true,
          "text": "38.58%",
          "x": 2021,
          "y": 38.58278555507682
         },
         {
          "arrowhead": 5,
          "ax": 0,
          "ay": -40,
          "showarrow": true,
          "text": "26.03%",
          "x": 2022,
          "y": 26.032967444331078
         },
         {
          "arrowhead": 5,
          "ax": 0,
          "ay": 40,
          "showarrow": true,
          "text": "13.47%",
          "x": 2022,
          "y": 13.46898652346471
         },
         {
          "arrowhead": 5,
          "ax": 0,
          "ay": -40,
          "showarrow": true,
          "text": "-34.14%",
          "x": 2023,
          "y": -34.135917703158
         },
         {
          "arrowhead": 5,
          "ax": 0,
          "ay": 40,
          "showarrow": true,
          "text": "-26.10%",
          "x": 2023,
          "y": -26.09671899893309
         }
        ],
        "barmode": "stack",
        "template": {
         "data": {
          "bar": [
           {
            "error_x": {
             "color": "#2a3f5f"
            },
            "error_y": {
             "color": "#2a3f5f"
            },
            "marker": {
             "line": {
              "color": "#E5ECF6",
              "width": 0.5
             },
             "pattern": {
              "fillmode": "overlay",
              "size": 10,
              "solidity": 0.2
             }
            },
            "type": "bar"
           }
          ],
          "barpolar": [
           {
            "marker": {
             "line": {
              "color": "#E5ECF6",
              "width": 0.5
             },
             "pattern": {
              "fillmode": "overlay",
              "size": 10,
              "solidity": 0.2
             }
            },
            "type": "barpolar"
           }
          ],
          "carpet": [
           {
            "aaxis": {
             "endlinecolor": "#2a3f5f",
             "gridcolor": "white",
             "linecolor": "white",
             "minorgridcolor": "white",
             "startlinecolor": "#2a3f5f"
            },
            "baxis": {
             "endlinecolor": "#2a3f5f",
             "gridcolor": "white",
             "linecolor": "white",
             "minorgridcolor": "white",
             "startlinecolor": "#2a3f5f"
            },
            "type": "carpet"
           }
          ],
          "choropleth": [
           {
            "colorbar": {
             "outlinewidth": 0,
             "ticks": ""
            },
            "type": "choropleth"
           }
          ],
          "contour": [
           {
            "colorbar": {
             "outlinewidth": 0,
             "ticks": ""
            },
            "colorscale": [
             [
              0,
              "#0d0887"
             ],
             [
              0.1111111111111111,
              "#46039f"
             ],
             [
              0.2222222222222222,
              "#7201a8"
             ],
             [
              0.3333333333333333,
              "#9c179e"
             ],
             [
              0.4444444444444444,
              "#bd3786"
             ],
             [
              0.5555555555555556,
              "#d8576b"
             ],
             [
              0.6666666666666666,
              "#ed7953"
             ],
             [
              0.7777777777777778,
              "#fb9f3a"
             ],
             [
              0.8888888888888888,
              "#fdca26"
             ],
             [
              1,
              "#f0f921"
             ]
            ],
            "type": "contour"
           }
          ],
          "contourcarpet": [
           {
            "colorbar": {
             "outlinewidth": 0,
             "ticks": ""
            },
            "type": "contourcarpet"
           }
          ],
          "heatmap": [
           {
            "colorbar": {
             "outlinewidth": 0,
             "ticks": ""
            },
            "colorscale": [
             [
              0,
              "#0d0887"
             ],
             [
              0.1111111111111111,
              "#46039f"
             ],
             [
              0.2222222222222222,
              "#7201a8"
             ],
             [
              0.3333333333333333,
              "#9c179e"
             ],
             [
              0.4444444444444444,
              "#bd3786"
             ],
             [
              0.5555555555555556,
              "#d8576b"
             ],
             [
              0.6666666666666666,
              "#ed7953"
             ],
             [
              0.7777777777777778,
              "#fb9f3a"
             ],
             [
              0.8888888888888888,
              "#fdca26"
             ],
             [
              1,
              "#f0f921"
             ]
            ],
            "type": "heatmap"
           }
          ],
          "heatmapgl": [
           {
            "colorbar": {
             "outlinewidth": 0,
             "ticks": ""
            },
            "colorscale": [
             [
              0,
              "#0d0887"
             ],
             [
              0.1111111111111111,
              "#46039f"
             ],
             [
              0.2222222222222222,
              "#7201a8"
             ],
             [
              0.3333333333333333,
              "#9c179e"
             ],
             [
              0.4444444444444444,
              "#bd3786"
             ],
             [
              0.5555555555555556,
              "#d8576b"
             ],
             [
              0.6666666666666666,
              "#ed7953"
             ],
             [
              0.7777777777777778,
              "#fb9f3a"
             ],
             [
              0.8888888888888888,
              "#fdca26"
             ],
             [
              1,
              "#f0f921"
             ]
            ],
            "type": "heatmapgl"
           }
          ],
          "histogram": [
           {
            "marker": {
             "pattern": {
              "fillmode": "overlay",
              "size": 10,
              "solidity": 0.2
             }
            },
            "type": "histogram"
           }
          ],
          "histogram2d": [
           {
            "colorbar": {
             "outlinewidth": 0,
             "ticks": ""
            },
            "colorscale": [
             [
              0,
              "#0d0887"
             ],
             [
              0.1111111111111111,
              "#46039f"
             ],
             [
              0.2222222222222222,
              "#7201a8"
             ],
             [
              0.3333333333333333,
              "#9c179e"
             ],
             [
              0.4444444444444444,
              "#bd3786"
             ],
             [
              0.5555555555555556,
              "#d8576b"
             ],
             [
              0.6666666666666666,
              "#ed7953"
             ],
             [
              0.7777777777777778,
              "#fb9f3a"
             ],
             [
              0.8888888888888888,
              "#fdca26"
             ],
             [
              1,
              "#f0f921"
             ]
            ],
            "type": "histogram2d"
           }
          ],
          "histogram2dcontour": [
           {
            "colorbar": {
             "outlinewidth": 0,
             "ticks": ""
            },
            "colorscale": [
             [
              0,
              "#0d0887"
             ],
             [
              0.1111111111111111,
              "#46039f"
             ],
             [
              0.2222222222222222,
              "#7201a8"
             ],
             [
              0.3333333333333333,
              "#9c179e"
             ],
             [
              0.4444444444444444,
              "#bd3786"
             ],
             [
              0.5555555555555556,
              "#d8576b"
             ],
             [
              0.6666666666666666,
              "#ed7953"
             ],
             [
              0.7777777777777778,
              "#fb9f3a"
             ],
             [
              0.8888888888888888,
              "#fdca26"
             ],
             [
              1,
              "#f0f921"
             ]
            ],
            "type": "histogram2dcontour"
           }
          ],
          "mesh3d": [
           {
            "colorbar": {
             "outlinewidth": 0,
             "ticks": ""
            },
            "type": "mesh3d"
           }
          ],
          "parcoords": [
           {
            "line": {
             "colorbar": {
              "outlinewidth": 0,
              "ticks": ""
             }
            },
            "type": "parcoords"
           }
          ],
          "pie": [
           {
            "automargin": true,
            "type": "pie"
           }
          ],
          "scatter": [
           {
            "fillpattern": {
             "fillmode": "overlay",
             "size": 10,
             "solidity": 0.2
            },
            "type": "scatter"
           }
          ],
          "scatter3d": [
           {
            "line": {
             "colorbar": {
              "outlinewidth": 0,
              "ticks": ""
             }
            },
            "marker": {
             "colorbar": {
              "outlinewidth": 0,
              "ticks": ""
             }
            },
            "type": "scatter3d"
           }
          ],
          "scattercarpet": [
           {
            "marker": {
             "colorbar": {
              "outlinewidth": 0,
              "ticks": ""
             }
            },
            "type": "scattercarpet"
           }
          ],
          "scattergeo": [
           {
            "marker": {
             "colorbar": {
              "outlinewidth": 0,
              "ticks": ""
             }
            },
            "type": "scattergeo"
           }
          ],
          "scattergl": [
           {
            "marker": {
             "colorbar": {
              "outlinewidth": 0,
              "ticks": ""
             }
            },
            "type": "scattergl"
           }
          ],
          "scattermapbox": [
           {
            "marker": {
             "colorbar": {
              "outlinewidth": 0,
              "ticks": ""
             }
            },
            "type": "scattermapbox"
           }
          ],
          "scatterpolar": [
           {
            "marker": {
             "colorbar": {
              "outlinewidth": 0,
              "ticks": ""
             }
            },
            "type": "scatterpolar"
           }
          ],
          "scatterpolargl": [
           {
            "marker": {
             "colorbar": {
              "outlinewidth": 0,
              "ticks": ""
             }
            },
            "type": "scatterpolargl"
           }
          ],
          "scatterternary": [
           {
            "marker": {
             "colorbar": {
              "outlinewidth": 0,
              "ticks": ""
             }
            },
            "type": "scatterternary"
           }
          ],
          "surface": [
           {
            "colorbar": {
             "outlinewidth": 0,
             "ticks": ""
            },
            "colorscale": [
             [
              0,
              "#0d0887"
             ],
             [
              0.1111111111111111,
              "#46039f"
             ],
             [
              0.2222222222222222,
              "#7201a8"
             ],
             [
              0.3333333333333333,
              "#9c179e"
             ],
             [
              0.4444444444444444,
              "#bd3786"
             ],
             [
              0.5555555555555556,
              "#d8576b"
             ],
             [
              0.6666666666666666,
              "#ed7953"
             ],
             [
              0.7777777777777778,
              "#fb9f3a"
             ],
             [
              0.8888888888888888,
              "#fdca26"
             ],
             [
              1,
              "#f0f921"
             ]
            ],
            "type": "surface"
           }
          ],
          "table": [
           {
            "cells": {
             "fill": {
              "color": "#EBF0F8"
             },
             "line": {
              "color": "white"
             }
            },
            "header": {
             "fill": {
              "color": "#C8D4E3"
             },
             "line": {
              "color": "white"
             }
            },
            "type": "table"
           }
          ]
         },
         "layout": {
          "annotationdefaults": {
           "arrowcolor": "#2a3f5f",
           "arrowhead": 0,
           "arrowwidth": 1
          },
          "autotypenumbers": "strict",
          "coloraxis": {
           "colorbar": {
            "outlinewidth": 0,
            "ticks": ""
           }
          },
          "colorscale": {
           "diverging": [
            [
             0,
             "#8e0152"
            ],
            [
             0.1,
             "#c51b7d"
            ],
            [
             0.2,
             "#de77ae"
            ],
            [
             0.3,
             "#f1b6da"
            ],
            [
             0.4,
             "#fde0ef"
            ],
            [
             0.5,
             "#f7f7f7"
            ],
            [
             0.6,
             "#e6f5d0"
            ],
            [
             0.7,
             "#b8e186"
            ],
            [
             0.8,
             "#7fbc41"
            ],
            [
             0.9,
             "#4d9221"
            ],
            [
             1,
             "#276419"
            ]
           ],
           "sequential": [
            [
             0,
             "#0d0887"
            ],
            [
             0.1111111111111111,
             "#46039f"
            ],
            [
             0.2222222222222222,
             "#7201a8"
            ],
            [
             0.3333333333333333,
             "#9c179e"
            ],
            [
             0.4444444444444444,
             "#bd3786"
            ],
            [
             0.5555555555555556,
             "#d8576b"
            ],
            [
             0.6666666666666666,
             "#ed7953"
            ],
            [
             0.7777777777777778,
             "#fb9f3a"
            ],
            [
             0.8888888888888888,
             "#fdca26"
            ],
            [
             1,
             "#f0f921"
            ]
           ],
           "sequentialminus": [
            [
             0,
             "#0d0887"
            ],
            [
             0.1111111111111111,
             "#46039f"
            ],
            [
             0.2222222222222222,
             "#7201a8"
            ],
            [
             0.3333333333333333,
             "#9c179e"
            ],
            [
             0.4444444444444444,
             "#bd3786"
            ],
            [
             0.5555555555555556,
             "#d8576b"
            ],
            [
             0.6666666666666666,
             "#ed7953"
            ],
            [
             0.7777777777777778,
             "#fb9f3a"
            ],
            [
             0.8888888888888888,
             "#fdca26"
            ],
            [
             1,
             "#f0f921"
            ]
           ]
          },
          "colorway": [
           "#636efa",
           "#EF553B",
           "#00cc96",
           "#ab63fa",
           "#FFA15A",
           "#19d3f3",
           "#FF6692",
           "#B6E880",
           "#FF97FF",
           "#FECB52"
          ],
          "font": {
           "color": "#2a3f5f"
          },
          "geo": {
           "bgcolor": "white",
           "lakecolor": "white",
           "landcolor": "#E5ECF6",
           "showlakes": true,
           "showland": true,
           "subunitcolor": "white"
          },
          "hoverlabel": {
           "align": "left"
          },
          "hovermode": "closest",
          "mapbox": {
           "style": "light"
          },
          "paper_bgcolor": "white",
          "plot_bgcolor": "#E5ECF6",
          "polar": {
           "angularaxis": {
            "gridcolor": "white",
            "linecolor": "white",
            "ticks": ""
           },
           "bgcolor": "#E5ECF6",
           "radialaxis": {
            "gridcolor": "white",
            "linecolor": "white",
            "ticks": ""
           }
          },
          "scene": {
           "xaxis": {
            "backgroundcolor": "#E5ECF6",
            "gridcolor": "white",
            "gridwidth": 2,
            "linecolor": "white",
            "showbackground": true,
            "ticks": "",
            "zerolinecolor": "white"
           },
           "yaxis": {
            "backgroundcolor": "#E5ECF6",
            "gridcolor": "white",
            "gridwidth": 2,
            "linecolor": "white",
            "showbackground": true,
            "ticks": "",
            "zerolinecolor": "white"
           },
           "zaxis": {
            "backgroundcolor": "#E5ECF6",
            "gridcolor": "white",
            "gridwidth": 2,
            "linecolor": "white",
            "showbackground": true,
            "ticks": "",
            "zerolinecolor": "white"
           }
          },
          "shapedefaults": {
           "line": {
            "color": "#2a3f5f"
           }
          },
          "ternary": {
           "aaxis": {
            "gridcolor": "white",
            "linecolor": "white",
            "ticks": ""
           },
           "baxis": {
            "gridcolor": "white",
            "linecolor": "white",
            "ticks": ""
           },
           "bgcolor": "#E5ECF6",
           "caxis": {
            "gridcolor": "white",
            "linecolor": "white",
            "ticks": ""
           }
          },
          "title": {
           "x": 0.05
          },
          "xaxis": {
           "automargin": true,
           "gridcolor": "white",
           "linecolor": "white",
           "ticks": "",
           "title": {
            "standoff": 15
           },
           "zerolinecolor": "white",
           "zerolinewidth": 2
          },
          "yaxis": {
           "automargin": true,
           "gridcolor": "white",
           "linecolor": "white",
           "ticks": "",
           "title": {
            "standoff": 15
           },
           "zerolinecolor": "white",
           "zerolinewidth": 2
          }
         }
        },
        "title": {
         "text": "Pertumbuhan Nilai Ekspor dan Impor Indonesia (2014-2023)"
        },
        "xaxis": {
         "tickmode": "array",
         "tickvals": [
          2014,
          2015,
          2016,
          2017,
          2018,
          2019,
          2020,
          2021,
          2022,
          2023
         ]
        },
        "yaxis": {
         "title": {
          "text": "Persentase Pertumbuhan (%)"
         }
        }
       }
      }
     },
     "metadata": {},
     "output_type": "display_data"
    }
   ],
   "source": [
    "import plotly.graph_objects as go\n",
    "\n",
    "# Plotting grafik batang 3D\n",
    "fig = go.Figure()\n",
    "\n",
    "fig.add_trace(go.Bar(\n",
    "    x=tahun_list,\n",
    "    y=total_nilai_df['Pertumbuhan Ekspor (%)'],\n",
    "    name='Pertumbuhan Ekspor (%)',\n",
    "    marker=dict(color='blue')\n",
    "))\n",
    "\n",
    "fig.add_trace(go.Bar(\n",
    "    x=tahun_list,\n",
    "    y=total_nilai_df['Pertumbuhan Impor (%)'],\n",
    "    name='Pertumbuhan Impor (%)',\n",
    "    marker=dict(color='orange')\n",
    "))\n",
    "\n",
    "# Menambahkan keterangan dalam grafik\n",
    "for i in range(len(tahun_list)):\n",
    "    pertumbuhan_ekspor = total_nilai_df.at[i, 'Pertumbuhan Ekspor (%)']\n",
    "    pertumbuhan_impor = total_nilai_df.at[i, 'Pertumbuhan Impor (%)']\n",
    "\n",
    "    # Memeriksa apakah nilai pertumbuhan valid sebelum menggunakan plt.text\n",
    "    if pd.notna(pertumbuhan_ekspor):\n",
    "        fig.add_annotation(\n",
    "            x=tahun_list[i],\n",
    "            y=pertumbuhan_ekspor,\n",
    "            text=f'{pertumbuhan_ekspor:.2f}%',\n",
    "            showarrow=True,\n",
    "            arrowhead=5,\n",
    "            ax=0,\n",
    "            ay=-40\n",
    "        )\n",
    "\n",
    "    if pd.notna(pertumbuhan_impor):\n",
    "        fig.add_annotation(\n",
    "            x=tahun_list[i],\n",
    "            y=pertumbuhan_impor,\n",
    "            text=f'{pertumbuhan_impor:.2f}%',\n",
    "            showarrow=True,\n",
    "            arrowhead=5,\n",
    "            ax=0,\n",
    "            ay=40\n",
    "        )\n",
    "\n",
    "fig.update_layout(\n",
    "    title='Pertumbuhan Nilai Ekspor dan Impor Indonesia (2014-2023)',\n",
    "    xaxis=dict(tickmode='array', tickvals=tahun_list),\n",
    "    yaxis=dict(title='Persentase Pertumbuhan (%)'),\n",
    "    barmode='stack'\n",
    ")\n",
    "\n",
    "fig.show()\n"
   ]
  }
 ],
 "metadata": {
  "kernelspec": {
   "display_name": "base",
   "language": "python",
   "name": "python3"
  },
  "language_info": {
   "codemirror_mode": {
    "name": "ipython",
    "version": 3
   },
   "file_extension": ".py",
   "mimetype": "text/x-python",
   "name": "python",
   "nbconvert_exporter": "python",
   "pygments_lexer": "ipython3",
   "version": "3.12.0"
  }
 },
 "nbformat": 4,
 "nbformat_minor": 2
}
